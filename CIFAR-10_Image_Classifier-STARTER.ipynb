{
 "cells": [
  {
   "cell_type": "markdown",
   "metadata": {},
   "source": [
    "# Introduction\n",
    "\n",
    "In this project, you will build a neural network of your own design to evaluate the CIFAR-10 dataset.\n",
    "\n",
    "To meet the requirements for this project, you will need to achieve an accuracy greater than 45%. \n",
    "If you want to beat Detectocorp's algorithm, you'll need to achieve an accuracy greater than 70%. \n",
    "(Beating Detectocorp's algorithm is not a requirement for passing this project, but you're encouraged to try!)\n",
    "\n",
    "Some of the benchmark results on CIFAR-10 include:\n",
    "\n",
    "78.9% Accuracy | [Deep Belief Networks; Krizhevsky, 2010](https://www.cs.toronto.edu/~kriz/conv-cifar10-aug2010.pdf)\n",
    "\n",
    "90.6% Accuracy | [Maxout Networks; Goodfellow et al., 2013](https://arxiv.org/pdf/1302.4389.pdf)\n",
    "\n",
    "96.0% Accuracy | [Wide Residual Networks; Zagoruyko et al., 2016](https://arxiv.org/pdf/1605.07146.pdf)\n",
    "\n",
    "99.0% Accuracy | [GPipe; Huang et al., 2018](https://arxiv.org/pdf/1811.06965.pdf)\n",
    "\n",
    "98.5% Accuracy | [Rethinking Recurrent Neural Networks and other Improvements for ImageClassification; Nguyen et al., 2020](https://arxiv.org/pdf/2007.15161.pdf)\n",
    "\n",
    "Research with this dataset is ongoing. Notably, many of these networks are quite large and quite expensive to train. \n",
    "\n",
    "## Imports"
   ]
  },
  {
   "cell_type": "code",
   "execution_count": 1,
   "metadata": {},
   "outputs": [],
   "source": [
    "## This cell contains the essential imports you will need – DO NOT CHANGE THE CONTENTS! ##\n",
    "#!pip install torch===1.5.0 torchvision===0.6.0 -f https://download.pytorch.org/whl/torch_stable.html\n",
    "import torch\n",
    "import torch.nn as nn\n",
    "import torch.nn.functional as F\n",
    "import torch.optim as optim\n",
    "import torchvision\n",
    "import torchvision.transforms as transforms\n",
    "import matplotlib.pyplot as plt\n",
    "import numpy as np"
   ]
  },
  {
   "cell_type": "code",
   "execution_count": 2,
   "metadata": {},
   "outputs": [
    {
     "name": "stdout",
     "output_type": "stream",
     "text": [
      "0.4.0\n"
     ]
    }
   ],
   "source": [
    "print(torch.__version__)"
   ]
  },
  {
   "cell_type": "markdown",
   "metadata": {},
   "source": [
    "## Load the Dataset\n",
    "\n",
    "Specify your transforms as a list first.\n",
    "The transforms module is already loaded as `transforms`.\n",
    "\n",
    "CIFAR-10 is fortunately included in the torchvision module.\n",
    "Then, you can create your dataset using the `CIFAR10` object from `torchvision.datasets` ([the documentation is available here](https://pytorch.org/docs/stable/torchvision/datasets.html#cifar)).\n",
    "Make sure to specify `download=True`! \n",
    "\n",
    "Once your dataset is created, you'll also need to define a `DataLoader` from the `torch.utils.data` module for both the train and the test set."
   ]
  },
  {
   "cell_type": "code",
   "execution_count": 3,
   "metadata": {},
   "outputs": [
    {
     "name": "stdout",
     "output_type": "stream",
     "text": [
      "Files already downloaded and verified\n",
      "Files already downloaded and verified\n"
     ]
    }
   ],
   "source": [
    "# Define transforms\n",
    "## YOUR CODE HERE ##\n",
    "\n",
    "#Training and Testing transforms\n",
    "train_transforms = transforms.Compose([transforms.RandomRotation(30),\n",
    "                                       transforms.RandomHorizontalFlip(),\n",
    "                                       transforms.RandomVerticalFlip(),\n",
    "                                       transforms.ToTensor(),\n",
    "                                       transforms.Normalize((0.5, 0.5, 0.5),(0.5,0.5,0.5))])\n",
    "\n",
    "test_transforms = transforms.Compose([transforms.ToTensor(), transforms.Normalize((0.5, 0.5, 0.5),(0.5,0.5,0.5))])\n",
    "\n",
    "# Create training set and define training dataloader\n",
    "## YOUR CODE HERE ##\n",
    "dataset = torchvision.datasets.CIFAR10(root='./data', download=True, transform=train_transforms, train=True)\n",
    "\n",
    "#Defining training and testing size\n",
    "train_size = int(0.8 * len(dataset))\n",
    "validation_size = int(0.2 * len(dataset))\n",
    "\n",
    "#Train validation data split\n",
    "trainset, validationset = torch.utils.data.dataset.random_split(dataset, [train_size,validation_size])\n",
    "\n",
    "#Train and validation data loader\n",
    "trainloader = torch.utils.data.DataLoader(trainset, batch_size=64, shuffle=True)\n",
    "validationloader = torch.utils.data.DataLoader(validationset, batch_size=64, shuffle=True)\n",
    "\n",
    "# Create test set and define test dataloader\n",
    "## YOUR CODE HERE ##\n",
    "\n",
    "testset = torchvision.datasets.CIFAR10(root='./data', train=False, download=True, transform=test_transforms)\n",
    "testloader = torch.utils.data.DataLoader(testset, batch_size=500, shuffle=False)\n",
    "\n",
    "# The 10 classes in the dataset\n",
    "classes = ('plane', 'car', 'bird', 'cat', 'deer', 'dog', 'frog', 'horse', 'ship', 'truck')"
   ]
  },
  {
   "cell_type": "markdown",
   "metadata": {},
   "source": [
    "## Explore the Dataset\n",
    "Using matplotlib, numpy, and torch, explore the dimensions of your data.\n",
    "\n",
    "You can view images using the `show5` function defined below – it takes a data loader as an argument.\n",
    "Remember that normalized images will look really weird to you! You may want to try changing your transforms to view images.\n",
    "Typically using no transforms other than `toTensor()` works well for viewing – but not as well for training your network.\n",
    "If `show5` doesn't work, go back and check your code for creating your data loaders and your training/test sets."
   ]
  },
  {
   "cell_type": "code",
   "execution_count": 4,
   "metadata": {},
   "outputs": [],
   "source": [
    "def show5(img_loader):\n",
    "    dataiter = iter(img_loader)\n",
    "    \n",
    "    batch = next(dataiter)\n",
    "    labels = batch[1][0:5]\n",
    "    images = batch[0][0:5]\n",
    "    for i in range(5):\n",
    "        print(classes[labels[i]])\n",
    "        image = images[i].numpy()\n",
    "        print(image.shape)\n",
    "        image = image/2 + 0.5\n",
    "        plt.imshow(np.rot90(image.T, k=3))\n",
    "        plt.show()"
   ]
  },
  {
   "cell_type": "code",
   "execution_count": 5,
   "metadata": {},
   "outputs": [
    {
     "name": "stdout",
     "output_type": "stream",
     "text": [
      "cat\n",
      "(3, 32, 32)\n"
     ]
    },
    {
     "data": {
      "image/png": "[encoded data removed]",
      "text/plain": [
       "<matplotlib.figure.Figure at 0x7f3327147f98>"
      ]
     },
     "metadata": {
      "needs_background": "light"
     },
     "output_type": "display_data"
    },
    {
     "name": "stdout",
     "output_type": "stream",
     "text": [
      "ship\n",
      "(3, 32, 32)\n"
     ]
    },
    {
     "data": {
      "image/png": "[encoded data removed]",
      "text/plain": [
       "<matplotlib.figure.Figure at 0x7f32cbdc9438>"
      ]
     },
     "metadata": {
      "needs_background": "light"
     },
     "output_type": "display_data"
    },
    {
     "name": "stdout",
     "output_type": "stream",
     "text": [
      "ship\n",
      "(3, 32, 32)\n"
     ]
    },
    {
     "data": {
      "image/png": "[encoded data removed]",
      "text/plain": [
       "<matplotlib.figure.Figure at 0x7f32cbce5da0>"
      ]
     },
     "metadata": {
      "needs_background": "light"
     },
     "output_type": "display_data"
    },
    {
     "name": "stdout",
     "output_type": "stream",
     "text": [
      "plane\n",
      "(3, 32, 32)\n"
     ]
    },
    {
     "data": {
      "image/png": "[encoded data removed]",
      "text/plain": [
       "<matplotlib.figure.Figure at 0x7f32cbca6c88>"
      ]
     },
     "metadata": {
      "needs_background": "light"
     },
     "output_type": "display_data"
    },
    {
     "name": "stdout",
     "output_type": "stream",
     "text": [
      "frog\n",
      "(3, 32, 32)\n"
     ]
    },
    {
     "data": {
      "image/png": "[encoded data removed]",
      "text/plain": [
       "<matplotlib.figure.Figure at 0x7f32c0a01630>"
      ]
     },
     "metadata": {
      "needs_background": "light"
     },
     "output_type": "display_data"
    }
   ],
   "source": [
    "# Explore data\n",
    "## YOUR CODE HERE ##\n",
    "##original size of image is 32 * 32 as can be seen from the images below\n",
    "show5(testloader)"
   ]
  },
  {
   "cell_type": "markdown",
   "metadata": {},
   "source": [
    "## Build your Neural Network\n",
    "Using the layers in `torch.nn` (which has been imported as `nn`) and the `torch.nn.functional` module (imported as `F`), construct a neural network based on the parameters of the dataset. \n",
    "Feel free to construct a model of any architecture – feedforward, convolutional, or even something more advanced!"
   ]
  },
  {
   "cell_type": "code",
   "execution_count": 6,
   "metadata": {},
   "outputs": [],
   "source": [
    "## YOUR CODE HERE ##\n",
    "\n",
    "class Classifier(nn.Module):\n",
    "    def __init__(self):\n",
    "        super().__init__()\n",
    "        self.fc1 = nn.Linear(3072,784)\n",
    "        self.fc2 = nn.Linear(784,256)\n",
    "        self.fc3 = nn.Linear(256,64)\n",
    "        self.fc6 = nn.Linear(64,10)\n",
    "        \n",
    "        #drop out\n",
    "        self.dropout = nn.Dropout(p=0.2)\n",
    "        \n",
    "    def forward(self,x):\n",
    "        #flatten input tensor\n",
    "        x = x.view(x.shape[0], -1)\n",
    "        \n",
    "        x = self.dropout(F.relu(self.fc1(x)))\n",
    "        x = self.dropout(F.relu(self.fc2(x)))\n",
    "        x = self.dropout(F.relu(self.fc3(x)))\n",
    "        x = F.log_softmax(self.fc6(x), dim=1)\n",
    "        \n",
    "        return x"
   ]
  },
  {
   "cell_type": "markdown",
   "metadata": {},
   "source": [
    "Specify a loss function and an optimizer, and instantiate the model.\n",
    "\n",
    "If you use a less common loss function, please note why you chose that loss function in a comment."
   ]
  },
  {
   "cell_type": "code",
   "execution_count": 7,
   "metadata": {},
   "outputs": [],
   "source": [
    "## YOUR CODE HERE ##\n",
    "\n",
    "model = Classifier()\n",
    "criterion = nn.NLLLoss()\n",
    "optimizer = optim.Adam(model.parameters(), lr=0.0001)\n"
   ]
  },
  {
   "cell_type": "markdown",
   "metadata": {},
   "source": [
    "## Running your Neural Network\n",
    "Use whatever method you like to train your neural network, and ensure you record the average loss at each epoch. \n",
    "Don't forget to use `torch.device()` and the `.to()` method for both your model and your data if you are using GPU!\n",
    "\n",
    "If you want to print your loss during each epoch, you can use the `enumerate` function and print the loss after a set number of batches. 250 batches works well for most people!"
   ]
  },
  {
   "cell_type": "code",
   "execution_count": 8,
   "metadata": {},
   "outputs": [
    {
     "name": "stdout",
     "output_type": "stream",
     "text": [
      "Epoch: 1/30..  Training Loss: 1.997..  Validation Loss: 1.831..  Validation Accuracy: 0.355\n",
      "Epoch: 2/30..  Training Loss: 1.850..  Validation Loss: 1.743..  Validation Accuracy: 0.374\n",
      "Epoch: 3/30..  Training Loss: 1.787..  Validation Loss: 1.701..  Validation Accuracy: 0.386\n",
      "Epoch: 4/30..  Training Loss: 1.755..  Validation Loss: 1.657..  Validation Accuracy: 0.405\n",
      "Epoch: 5/30..  Training Loss: 1.723..  Validation Loss: 1.636..  Validation Accuracy: 0.415\n",
      "Epoch: 6/30..  Training Loss: 1.693..  Validation Loss: 1.605..  Validation Accuracy: 0.420\n",
      "Epoch: 7/30..  Training Loss: 1.664..  Validation Loss: 1.579..  Validation Accuracy: 0.434\n",
      "Epoch: 8/30..  Training Loss: 1.639..  Validation Loss: 1.560..  Validation Accuracy: 0.445\n",
      "Epoch: 9/30..  Training Loss: 1.623..  Validation Loss: 1.530..  Validation Accuracy: 0.457\n",
      "Epoch: 10/30..  Training Loss: 1.601..  Validation Loss: 1.517..  Validation Accuracy: 0.459\n",
      "Epoch: 11/30..  Training Loss: 1.586..  Validation Loss: 1.505..  Validation Accuracy: 0.464\n",
      "Epoch: 12/30..  Training Loss: 1.564..  Validation Loss: 1.492..  Validation Accuracy: 0.463\n",
      "Epoch: 13/30..  Training Loss: 1.554..  Validation Loss: 1.487..  Validation Accuracy: 0.469\n",
      "Epoch: 14/30..  Training Loss: 1.542..  Validation Loss: 1.469..  Validation Accuracy: 0.476\n",
      "Epoch: 15/30..  Training Loss: 1.529..  Validation Loss: 1.460..  Validation Accuracy: 0.482\n",
      "Epoch: 16/30..  Training Loss: 1.518..  Validation Loss: 1.439..  Validation Accuracy: 0.489\n",
      "Epoch: 17/30..  Training Loss: 1.512..  Validation Loss: 1.436..  Validation Accuracy: 0.482\n",
      "Epoch: 18/30..  Training Loss: 1.496..  Validation Loss: 1.422..  Validation Accuracy: 0.491\n",
      "Epoch: 19/30..  Training Loss: 1.485..  Validation Loss: 1.425..  Validation Accuracy: 0.493\n",
      "Epoch: 20/30..  Training Loss: 1.487..  Validation Loss: 1.420..  Validation Accuracy: 0.491\n",
      "Epoch: 21/30..  Training Loss: 1.472..  Validation Loss: 1.402..  Validation Accuracy: 0.501\n",
      "Epoch: 22/30..  Training Loss: 1.469..  Validation Loss: 1.411..  Validation Accuracy: 0.496\n",
      "Epoch: 23/30..  Training Loss: 1.458..  Validation Loss: 1.396..  Validation Accuracy: 0.505\n",
      "Epoch: 24/30..  Training Loss: 1.451..  Validation Loss: 1.411..  Validation Accuracy: 0.500\n",
      "Epoch: 25/30..  Training Loss: 1.444..  Validation Loss: 1.380..  Validation Accuracy: 0.510\n",
      "Epoch: 26/30..  Training Loss: 1.441..  Validation Loss: 1.388..  Validation Accuracy: 0.506\n",
      "Epoch: 27/30..  Training Loss: 1.438..  Validation Loss: 1.369..  Validation Accuracy: 0.508\n",
      "Epoch: 28/30..  Training Loss: 1.429..  Validation Loss: 1.369..  Validation Accuracy: 0.512\n",
      "Epoch: 29/30..  Training Loss: 1.424..  Validation Loss: 1.375..  Validation Accuracy: 0.506\n",
      "Epoch: 30/30..  Training Loss: 1.421..  Validation Loss: 1.371..  Validation Accuracy: 0.516\n"
     ]
    }
   ],
   "source": [
    "## YOUR CODE HERE ##\n",
    "#setting up code to run on either GPU or CPU\n",
    "device = torch.device(\"cuda\" if torch.cuda.is_available() else \"cpu\")\n",
    "\n",
    "model.to(device)\n",
    "\n",
    "#instantiating variables\n",
    "epochs = 30\n",
    "steps = 0\n",
    "running_loss = 0\n",
    "print_loss_every = 250\n",
    "\n",
    "train_losses, validation_losses = [],[]\n",
    "\n",
    "for e in range(epochs):\n",
    "\n",
    "    for images, labels in trainloader:\n",
    "        steps += 1\n",
    "        #loading images to GPU if available\n",
    "        images, labels = images.to(device), labels.to(device)\n",
    "        # updating the weights\n",
    "        optimizer.zero_grad()\n",
    "        #applying model to images\n",
    "        log_ps = model(images)\n",
    "        #calculating training loss\n",
    "        loss = criterion(log_ps, labels)\n",
    "        #performing backward propagation\n",
    "        loss.backward()\n",
    "        #updating weights\n",
    "        optimizer.step()\n",
    "        #updating runnin loss\n",
    "        running_loss += loss.item()\n",
    "        \n",
    "\n",
    "        \n",
    "    \n",
    "    \n",
    "    else:\n",
    "        #instantiating loss and accuracy to zero\n",
    "        validation_loss = 0\n",
    "        accuracy = 0\n",
    "        #turning off gradient to perform validation\n",
    "        with torch.no_grad():\n",
    "            #inform that we are in testing(evaluation mode to ignore dropout)\n",
    "            model.eval()\n",
    "            #loop through images\n",
    "            for images, labels in validationloader:\n",
    "                #Again load images to GPU if available \n",
    "                images, labels = images.to(device), labels.to(device)\n",
    "                #apply model to images\n",
    "                log_ps = model(images)\n",
    "                #calculate validation loss\n",
    "                validation_loss += criterion(log_ps, labels)\n",
    "                \n",
    "                #calculate accuracy\n",
    "                ps = torch.exp(log_ps)\n",
    "                top_p, top_class = ps.topk(1, dim=1)\n",
    "                equals = top_class == labels.view(*top_class.shape)\n",
    "                accuracy += torch.mean(equals.type(torch.FloatTensor))\n",
    "                \n",
    "        model.train()\n",
    "        \n",
    "        train_losses.append(running_loss/len(trainloader))\n",
    "        validation_losses.append(validation_loss/len(validationloader))\n",
    "        \n",
    "        print(\"Epoch: {}/{}.. \".format(e+1, epochs),\n",
    "              \"Training Loss: {:.3f}.. \".format(running_loss/len(trainloader)),\n",
    "              \"Validation Loss: {:.3f}.. \".format(validation_loss/len(validationloader)),\n",
    "              \"Validation Accuracy: {:.3f}\".format(accuracy/len(validationloader)))\n",
    "        running_loss = 0\n",
    "        model.train()"
   ]
  },
  {
   "cell_type": "markdown",
   "metadata": {},
   "source": [
    "Plot the training loss (and validation loss/accuracy, if recorded)."
   ]
  },
  {
   "cell_type": "code",
   "execution_count": 9,
   "metadata": {},
   "outputs": [
    {
     "data": {
      "text/plain": [
       "Text(0.5,1,'Training Loss vs Validation Loss')"
      ]
     },
     "execution_count": 9,
     "metadata": {},
     "output_type": "execute_result"
    },
    {
     "data": {
      "image/png": "[encoded data removed]",
      "text/plain": [
       "<matplotlib.figure.Figure at 0x7f32cbddbe10>"
      ]
     },
     "metadata": {
      "needs_background": "light"
     },
     "output_type": "display_data"
    }
   ],
   "source": [
    "## YOUR CODE HERE ##\n",
    "%matplotlib inline\n",
    "\n",
    "plt.plot(train_losses, label = 'Training Loss')\n",
    "plt.plot(validation_losses, label = 'Validation Loss')\n",
    "plt.title(\"Training Loss vs Validation Loss\")"
   ]
  },
  {
   "cell_type": "markdown",
   "metadata": {},
   "source": [
    "## Testing your model\n",
    "Using the previously created `DataLoader` for the test set, compute the percentage of correct predictions using the highest probability prediction. \n",
    "\n",
    "If your accuracy is over 70%, great work! \n",
    "This is a hard task to exceed 70% on.\n",
    "\n",
    "If your accuracy is under 45%, you'll need to make improvements.\n",
    "Go back and check your model architecture, loss function, and optimizer to make sure they're appropriate for an image classification task."
   ]
  },
  {
   "cell_type": "code",
   "execution_count": 18,
   "metadata": {},
   "outputs": [
    {
     "name": "stdout",
     "output_type": "stream",
     "text": [
      "Test Accuracy: 50.399\n"
     ]
    }
   ],
   "source": [
    "## YOUR CODE HERE ##\n",
    "correct = 0\n",
    "total = 0\n",
    "\n",
    "with torch.no_grad():\n",
    "            #inform that we are in testing(evaluation mode to ignore dropout)\n",
    "            model.eval()\n",
    "            #loop through images\n",
    "            for images, labels in testloader:\n",
    "                #Again load images to GPU if available \n",
    "                images, labels = images.to(device), labels.to(device)\n",
    "                #apply model to images\n",
    "                log_ps = model(images)\n",
    "                \n",
    "                #calculate accuracy\n",
    "                ps = torch.exp(log_ps)\n",
    "                top_p, top_class = ps.topk(1, dim=1)\n",
    "                equals = top_class == labels.view(*top_class.shape)\n",
    "                \n",
    "                total += labels.size(0)\n",
    "                correct += (top_class == labels).sum().item()\n",
    "                \n",
    "                accuracy += torch.mean(equals.type(torch.FloatTensor))\n",
    "    \n",
    "print(\"Test Accuracy: {:.3f}\".format(correct/total))"
   ]
  },
  {
   "cell_type": "markdown",
   "metadata": {},
   "source": [
    "## Saving your model\n",
    "Using `torch.save`, save your model for future loading."
   ]
  },
  {
   "cell_type": "code",
   "execution_count": 9,
   "metadata": {},
   "outputs": [],
   "source": [
    "## YOUR CODE HERE ##\n",
    "torch.save(model.state_dict(), 'Checkpoint1.pth')"
   ]
  },
  {
   "cell_type": "markdown",
   "metadata": {},
   "source": [
    "## Make a Recommendation\n",
    "\n",
    "Based on your evaluation, what is your recommendation on whether to build or buy? Explain your reasoning below.\n",
    "\n",
    "Some things to consider as you formulate your recommendation:\n",
    "* How does your model compare to Detectocorp's model?\n",
    "* How does it compare to the far more advanced solutions in the literature? \n",
    "* What did you do to get the accuracy you achieved? \n",
    "* Is it necessary to improve this accuracy? If so, what sort of work would be involved in improving it?"
   ]
  },
  {
   "cell_type": "markdown",
   "metadata": {},
   "source": [
    "\n",
    "\n",
    "**My recommendation is that they do not purchase the Detectocorp's model as its just a .2 difference and spending more time and work on the project will produce a model with better accuracy.My model has a 50% accuracy compared to Detectocorp's model. This was done in less than 3 hours of training and just an intro to pytorch course from udacity. I believe that this model just contains the basic building blocks of a deep neural network and does not encompass more advanced techniques which will greatly improve the model. To get this accuracy, I flipped the images in the train set and rotated them randomly, used the nn.Nllloss after the cross entropy gave a lower accuracy. I used Adam optimizers as it is more advanced that SGD. I believe to improve this model, a deep CNN model should be employed as I feel this model is near its limit. Also, other advanced techniques as as Regularization and so on should be implemented**\n",
    "\n"
   ]
  },
  {
   "cell_type": "markdown",
   "metadata": {},
   "source": [
    "## Submit Your Project\n",
    "\n",
    "When you are finished editing the notebook and are ready to turn it in, simply click the **SUBMIT PROJECT** button in the lower right.\n",
    "\n",
    "Once you submit your project, we'll review your work and give you feedback if there's anything that you need to work on. If you'd like to see the exact points that your reviewer will check for when looking at your work, you can have a look over the project [rubric](https://review.udacity.com/#!/rubrics/3077/view)."
   ]
  }
 ],
 "metadata": {
  "kernelspec": {
   "display_name": "Python 3",
   "language": "python",
   "name": "python3"
  },
  "language_info": {
   "codemirror_mode": {
    "name": "ipython",
    "version": 3
   },
   "file_extension": ".py",
   "mimetype": "text/x-python",
   "name": "python",
   "nbconvert_exporter": "python",
   "pygments_lexer": "ipython3",
   "version": "3.6.3"
  }
 },
 "nbformat": 4,
 "nbformat_minor": 4
}
